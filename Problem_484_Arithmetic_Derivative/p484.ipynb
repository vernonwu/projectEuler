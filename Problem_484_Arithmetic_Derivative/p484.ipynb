{
 "cells": [
  {
   "cell_type": "markdown",
   "metadata": {},
   "source": [
    "# Arithmetic Derivative\n",
    "Problem 484"
   ]
  },
  {
   "cell_type": "markdown",
   "metadata": {},
   "source": [
    "## Problem description\n",
    "\n",
    "The arithmetic derivative is defined by\n",
    "- $p^{\\prime}=1$ for any prime $p$\n",
    "- $(a b)^{\\prime}=a^{\\prime} b+a b^{\\prime}$ for all integers $a, b$ (Leibniz rule)\n",
    "\n",
    "For example, $20^{\\prime}=24$.\n",
    "Find $\\sum \\operatorname{gcd}\\left(k, k^{\\prime}\\right)$ for $1<k \\leq 5 \\times 10^{15}$.\n",
    "Note: $\\mathbf{g c d}(x, y)$ denotes the greatest common divisor of $x$ and $y$."
   ]
  },
  {
   "cell_type": "markdown",
   "metadata": {},
   "source": [
    "Let $g(n):=\\operatorname{gcd}\\left(n^{\\prime}, n\\right)$ and $f\\left(p^e\\right):=g\\left(p^e\\right)-g\\left(p^{e-1}\\right)(f(n)$ : multiplicative function).\n",
    "Then,\n",
    "$$\n",
    "\\sum_{k=2}^N \\operatorname{gcd}\\left(k, k^{\\prime}\\right)=-1+\\sum_{n: \\text { powerful number }}\\left\\lfloor\\frac{N}{n}\\right\\rfloor f(n) .\n",
    "$$"
   ]
  },
  {
   "cell_type": "code",
   "execution_count": 11,
   "metadata": {},
   "outputs": [
    {
     "name": "stdout",
     "output_type": "stream",
     "text": [
      "8907904768686152599\n"
     ]
    }
   ],
   "source": [
    "import numba as nb\n",
    "import numpy as np\n",
    "from math import sqrt\n",
    "from primesieve import primes\n",
    "\n",
    "def euler484(L):\n",
    "  pLst = primes(int(sqrt(L+0.5)))\n",
    "  qLst = np.array(pLst)**2\n",
    "  return L-1 + dfs(0,L,pLst,qLst)\n",
    "\n",
    "@nb.njit\n",
    "def dfs(i0,L0,pLst,qLst):\n",
    "  res = 0\n",
    "  for i in range(i0,len(pLst)):\n",
    "    q = qLst[i]\n",
    "    L = L0//q\n",
    "    if L == 0:\n",
    "      break\n",
    "    p, e, g = pLst[i], 1, 1\n",
    "    while L:\n",
    "      gp = g\n",
    "      e += 1\n",
    "      if e != 1:\n",
    "        if e == p:\n",
    "          g *= q\n",
    "          e = 0\n",
    "        else:\n",
    "          g *= p\n",
    "        c = g - gp\n",
    "        res += c*L\n",
    "        if L > q:\n",
    "          res += c*dfs(i+1,L,pLst,qLst)\n",
    "      L //= p\n",
    "  return res\n",
    "\n",
    "N = 5 * 10 ** 15\n",
    "print(euler484(N))"
   ]
  },
  {
   "cell_type": "code",
   "execution_count": 17,
   "metadata": {},
   "outputs": [],
   "source": [
    "import math\n",
    "def prob484():\n",
    "  pres = []\n",
    "  def rec(pi, rest, coef, pres=pres):\n",
    "    ret = rest * coef\n",
    "    for pj in range(pi, len(pres)):\n",
    "      if pres[pj][0][0] > rest:\n",
    "        break\n",
    "      for p1, c1 in pres[pj]:\n",
    "        if p1 > rest:\n",
    "          break\n",
    "        ret += rec(pj + 1, rest // p1, coef * c1)\n",
    "    return ret\n",
    "\n",
    "  for p in primes(math.isqrt(N)):\n",
    "    q, prev, e = p * p, 1, 2\n",
    "    pre = []\n",
    "    while q <= N:\n",
    "      g = math.gcd(e * (q // p),  q)\n",
    "      if g - prev:\n",
    "        pre.append((q, g - prev))\n",
    "      q *= p\n",
    "      e += 1\n",
    "      prev = g\n",
    "    pres.append(pre)\n",
    "  print(rec(0, N, 1) - 1)"
   ]
  }
 ],
 "metadata": {
  "kernelspec": {
   "display_name": "python311",
   "language": "python",
   "name": "python3"
  },
  "language_info": {
   "codemirror_mode": {
    "name": "ipython",
    "version": 3
   },
   "file_extension": ".py",
   "mimetype": "text/x-python",
   "name": "python",
   "nbconvert_exporter": "python",
   "pygments_lexer": "ipython3",
   "version": "3.9.18"
  }
 },
 "nbformat": 4,
 "nbformat_minor": 2
}
