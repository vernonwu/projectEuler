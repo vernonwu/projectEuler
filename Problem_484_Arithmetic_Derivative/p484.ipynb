{
 "cells": [
  {
   "cell_type": "markdown",
   "metadata": {},
   "source": [
    "# Arithmetic Derivative\n",
    "Problem 484"
   ]
  },
  {
   "cell_type": "markdown",
   "metadata": {},
   "source": [
    "## Problem description\n",
    "\n",
    "The arithmetic derivative is defined by\n",
    "- $p^{\\prime}=1$ for any prime $p$\n",
    "- $(a b)^{\\prime}=a^{\\prime} b+a b^{\\prime}$ for all integers $a, b$ (Leibniz rule)\n",
    "\n",
    "For example, $20^{\\prime}=24$.\n",
    "Find $\\sum \\operatorname{gcd}\\left(k, k^{\\prime}\\right)$ for $1<k \\leq 5 \\times 10^{15}$.\n",
    "Note: $\\mathbf{g c d}(x, y)$ denotes the greatest common divisor of $x$ and $y$."
   ]
  },
  {
   "cell_type": "markdown",
   "metadata": {},
   "source": [
    "Denote all the prime factors of $k$ as $p_1, p_2, \\ldots, p_n$.\n",
    "\n",
    "Then $ k = \\prod_{i=1}^{n} p_{i}$ \n",
    "\n",
    "$k^{\\prime}=\\sum_{i=1}^{n} p_{i}^{\\prime} \\prod_{j \\neq i} p_{j} = \\sum_{i=1}^{n} \\prod_{j \\neq i} p_{j}$.\n",
    "\n",
    "It is easy to see that if $ p_1 \\neq p_2 \\neq \\ldots \\neq p_n$, then $ \\mathbf{g c d}(k, k^{\\prime}) = 1$."
   ]
  },
  {
   "cell_type": "code",
   "execution_count": 1,
   "metadata": {},
   "outputs": [],
   "source": [
    "import math\n",
    "import scipy as sp\n",
    "import numpy as np\n",
    "import matplotlib.pyplot as plt"
   ]
  }
 ],
 "metadata": {
  "kernelspec": {
   "display_name": "python311",
   "language": "python",
   "name": "python3"
  },
  "language_info": {
   "codemirror_mode": {
    "name": "ipython",
    "version": 3
   },
   "file_extension": ".py",
   "mimetype": "text/x-python",
   "name": "python",
   "nbconvert_exporter": "python",
   "pygments_lexer": "ipython3",
   "version": "3.11.6"
  }
 },
 "nbformat": 4,
 "nbformat_minor": 2
}
